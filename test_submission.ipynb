{
 "cells": [
  {
   "cell_type": "code",
   "execution_count": null,
   "metadata": {
    "colab": {
     "base_uri": "https://localhost:8080/"
    },
    "executionInfo": {
     "elapsed": 253,
     "status": "ok",
     "timestamp": 1732959244576,
     "user": {
      "displayName": "최지훈",
      "userId": "13064390888583055144"
     },
     "user_tz": -540
    },
    "id": "oLVp6MOI5YAW",
    "outputId": "63070157-d691-4e3d-e8a2-8bad27e343fd"
   },
   "outputs": [],
   "source": [
    "%cd ./FinanceRAG\n",
    "#각자 drive의 FinanceRAG-main의 경로를 복사해서 넣으면 됨"
   ]
  },
  {
   "cell_type": "code",
   "execution_count": null,
   "metadata": {
    "colab": {
     "base_uri": "https://localhost:8080/"
    },
    "executionInfo": {
     "elapsed": 33242,
     "status": "ok",
     "timestamp": 1732959277815,
     "user": {
      "displayName": "최지훈",
      "userId": "13064390888583055144"
     },
     "user_tz": -540
    },
    "id": "wcvojCVf7WIC",
    "outputId": "0cd74852-ed82-4ef6-e712-872e26b146d2"
   },
   "outputs": [],
   "source": [
    "!pip install pytrec_eval --quiet\n",
    "!pip install datasets --quiet"
   ]
  },
  {
   "cell_type": "code",
   "execution_count": 3,
   "metadata": {
    "id": "uxYTaQbk50ho"
   },
   "outputs": [],
   "source": [
    "import pytrec_eval\n",
    "from typing import Dict, List, Tuple\n",
    "import logging\n",
    "\n",
    "logger = logging.getLogger(__name__)\n",
    "\n",
    "def evaluate(\n",
    "            qrels: Dict[str, Dict[str, int]],\n",
    "            results: Dict[str, Dict[str, float]],\n",
    "            k_values: List[int],\n",
    "            ignore_identical_ids: bool = True\n",
    "    ) -> Tuple[Dict[str, float], Dict[str, float], Dict[str, float], Dict[str, float]]:\n",
    "\n",
    "        if ignore_identical_ids:\n",
    "            popped = []\n",
    "            for qid, rels in results.items():\n",
    "                for pid in list(rels):\n",
    "                    if qid == pid:\n",
    "                        results[qid].pop(pid)  # remove identical query-document pairs\n",
    "                        popped.append(pid)\n",
    "\n",
    "        # Filter results to only keep queries that are present in qrels\n",
    "        filtered_results = {qid: rels for qid, rels in results.items() if qid in qrels}\n",
    "\n",
    "        # Initialize dictionaries for evaluation metrics\n",
    "        ndcg = {}\n",
    "        _map = {}\n",
    "        recall = {}\n",
    "        precision = {}\n",
    "\n",
    "        # Initialize metric values for each k in k_values\n",
    "        for k in k_values:\n",
    "            ndcg[f\"NDCG@{k}\"] = 0.0\n",
    "            _map[f\"MAP@{k}\"] = 0.0\n",
    "            recall[f\"Recall@{k}\"] = 0.0\n",
    "            precision[f\"P@{k}\"] = 0.0\n",
    "\n",
    "        # Define strings for pytrec_eval evaluation\n",
    "        map_string = \"map_cut.\" + \",\".join([str(k) for k in k_values])\n",
    "        ndcg_string = \"ndcg_cut.\" + \",\".join([str(k) for k in k_values])\n",
    "        recall_string = \"recall.\" + \",\".join([str(k) for k in k_values])\n",
    "        precision_string = \"P.\" + \",\".join([str(k) for k in k_values])\n",
    "\n",
    "        # Perform evaluation using pytrec_eval with filtered results\n",
    "        evaluator = pytrec_eval.RelevanceEvaluator(qrels,\n",
    "                                                   {map_string, ndcg_string, recall_string, precision_string})\n",
    "        scores = evaluator.evaluate(filtered_results)\n",
    "\n",
    "        # Aggregate the scores for each query and each k\n",
    "        for query_id in scores.keys():\n",
    "            for k in k_values:\n",
    "                ndcg[f\"NDCG@{k}\"] += scores[query_id][\"ndcg_cut_\" + str(k)]\n",
    "                _map[f\"MAP@{k}\"] += scores[query_id][\"map_cut_\" + str(k)]\n",
    "                recall[f\"Recall@{k}\"] += scores[query_id][\"recall_\" + str(k)]\n",
    "                precision[f\"P@{k}\"] += scores[query_id][\"P_\" + str(k)]\n",
    "\n",
    "        # Compute the average scores for each k\n",
    "        for k in k_values:\n",
    "            ndcg[f\"NDCG@{k}\"] = round(ndcg[f\"NDCG@{k}\"] / len(scores), 5)\n",
    "            _map[f\"MAP@{k}\"] = round(_map[f\"MAP@{k}\"] / len(scores), 5)\n",
    "            recall[f\"Recall@{k}\"] = round(recall[f\"Recall@{k}\"] / len(scores), 5)\n",
    "            precision[f\"P@{k}\"] = round(precision[f\"P@{k}\"] / len(scores), 5)\n",
    "\n",
    "        # Log the results for each metric\n",
    "        for _eval in [ndcg, _map, recall, precision]:\n",
    "            logger.info(\"\\n\")\n",
    "            for k in _eval.keys():\n",
    "                print(\"{}: {:.4f}\".format(k, _eval[k]))\n",
    "\n",
    "        return ndcg, _map, recall, precision"
   ]
  },
  {
   "cell_type": "markdown",
   "metadata": {
    "id": "vvtOx_-IPgmA"
   },
   "source": [
    "result_output 파일에서 test set에 대한 점수 계산"
   ]
  },
  {
   "cell_type": "code",
   "execution_count": 4,
   "metadata": {
    "id": "Mg_HEFOcPZpD"
   },
   "outputs": [],
   "source": [
    "import pandas as pd\n",
    "import json"
   ]
  },
  {
   "cell_type": "code",
   "execution_count": null,
   "metadata": {
    "colab": {
     "base_uri": "https://localhost:8080/"
    },
    "executionInfo": {
     "elapsed": 1875,
     "status": "ok",
     "timestamp": 1732957330558,
     "user": {
      "displayName": "최지훈",
      "userId": "13064390888583055144"
     },
     "user_tz": -540
    },
    "id": "_QSgYfANPyH_",
    "outputId": "0ef6b1bc-e036-4158-8b3b-dc354077e86c"
   },
   "outputs": [],
   "source": [
    "# 답변 레이블의 30%가 포함된 TSV 파일 로드\n",
    "df = pd.read_csv('../files/ConvFinQA_qrels.tsv', sep='\\t')\n",
    "\n",
    "# TSV 데이터를 평가를 위한 사전 형식으로 변환\n",
    "qrels_dict = df.groupby('query_id').apply(lambda x: dict(zip(x['corpus_id'], x['score']))).to_dict()\n",
    "df_submission = pd.read_csv('../results/ConvFinQA/results_score.csv')\n",
    "df_submission_dict = df_submission.groupby('query_id').apply(lambda x: dict(zip(x['corpus_id'], x['score']))).to_dict()\n",
    "\n",
    "result = evaluate(qrels = qrels_dict, results = df_submission_dict, k_values = [1, 5, 10], ignore_identical_ids = True)"
   ]
  },
  {
   "cell_type": "code",
   "execution_count": null,
   "metadata": {
    "colab": {
     "base_uri": "https://localhost:8080/"
    },
    "executionInfo": {
     "elapsed": 1509,
     "status": "ok",
     "timestamp": 1732957332064,
     "user": {
      "displayName": "최지훈",
      "userId": "13064390888583055144"
     },
     "user_tz": -540
    },
    "id": "JpJvrHFFP4YO",
    "outputId": "4a7a8a98-52d0-4a6e-9387-2c05d231865b"
   },
   "outputs": [],
   "source": [
    "# 답변 레이블의 30%가 포함된 TSV 파일 로드\n",
    "df = pd.read_csv('../files/FinanceBench_qrels.tsv', sep='\\t')\n",
    "\n",
    "# TSV 데이터를 평가를 위한 사전 형식으로 변환\n",
    "qrels_dict = df.groupby('query_id').apply(lambda x: dict(zip(x['corpus_id'], x['score']))).to_dict()\n",
    "df_submission = pd.read_csv('../results/FinanceBench/results_score.csv')\n",
    "df_submission_dict = df_submission.groupby('query_id').apply(lambda x: dict(zip(x['corpus_id'], x['score']))).to_dict()\n",
    "\n",
    "result = evaluate(qrels = qrels_dict, results = df_submission_dict, k_values = [1, 5, 10], ignore_identical_ids = True)"
   ]
  },
  {
   "cell_type": "code",
   "execution_count": null,
   "metadata": {
    "colab": {
     "base_uri": "https://localhost:8080/"
    },
    "executionInfo": {
     "elapsed": 1914,
     "status": "ok",
     "timestamp": 1732957333976,
     "user": {
      "displayName": "최지훈",
      "userId": "13064390888583055144"
     },
     "user_tz": -540
    },
    "id": "3XVGOFks-kuH",
    "outputId": "e18fb1b3-b8a8-4d8e-d399-201abcbf6b29"
   },
   "outputs": [],
   "source": [
    "# 답변 레이블의 30%가 포함된 TSV 파일 로드\n",
    "df = pd.read_csv('../files/FinDER_qrels.tsv', sep='\\t')\n",
    "\n",
    "# TSV 데이터를 평가를 위한 사전 형식으로 변환\n",
    "qrels_dict = df.groupby('query_id').apply(lambda x: dict(zip(x['corpus_id'], x['score']))).to_dict()\n",
    "df_submission = pd.read_csv('../results/FinDER/results_score.csv')\n",
    "df_submission_dict = df_submission.groupby('query_id').apply(lambda x: dict(zip(x['corpus_id'], x['score']))).to_dict()\n",
    "\n",
    "result = evaluate(qrels = qrels_dict, results = df_submission_dict, k_values = [1, 5, 10], ignore_identical_ids = True)"
   ]
  },
  {
   "cell_type": "code",
   "execution_count": null,
   "metadata": {
    "colab": {
     "base_uri": "https://localhost:8080/"
    },
    "executionInfo": {
     "elapsed": 1978,
     "status": "ok",
     "timestamp": 1732957335951,
     "user": {
      "displayName": "최지훈",
      "userId": "13064390888583055144"
     },
     "user_tz": -540
    },
    "id": "-QC18LtOQAZN",
    "outputId": "cde1a52c-b332-4f61-d827-74768ddd1baf"
   },
   "outputs": [],
   "source": [
    "# 답변 레이블의 30%가 포함된 TSV 파일 로드\n",
    "df = pd.read_csv('../files/FinQA_qrels.tsv', sep='\\t')\n",
    "\n",
    "# TSV 데이터를 평가를 위한 사전 형식으로 변환\n",
    "qrels_dict = df.groupby('query_id').apply(lambda x: dict(zip(x['corpus_id'], x['score']))).to_dict()\n",
    "df_submission = pd.read_csv('../results/FinQA/results_score.csv')\n",
    "df_submission_dict = df_submission.groupby('query_id').apply(lambda x: dict(zip(x['corpus_id'], x['score']))).to_dict()\n",
    "\n",
    "result = evaluate(qrels = qrels_dict, results = df_submission_dict, k_values = [1, 5, 10], ignore_identical_ids = True)"
   ]
  },
  {
   "cell_type": "code",
   "execution_count": null,
   "metadata": {
    "colab": {
     "base_uri": "https://localhost:8080/"
    },
    "executionInfo": {
     "elapsed": 245,
     "status": "ok",
     "timestamp": 1732959296240,
     "user": {
      "displayName": "최지훈",
      "userId": "13064390888583055144"
     },
     "user_tz": -540
    },
    "id": "wGtMCHGa-kmR",
    "outputId": "0b828e8a-bd8b-4659-e9b4-6da9f5d2d895"
   },
   "outputs": [],
   "source": [
    "# 답변 레이블의 30%가 포함된 TSV 파일 로드\n",
    "df = pd.read_csv('../files/FinQABench_qrels.tsv', sep='\\t')\n",
    "\n",
    "# TSV 데이터를 평가를 위한 사전 형식으로 변환\n",
    "qrels_dict = df.groupby('query_id').apply(lambda x: dict(zip(x['corpus_id'], x['score']))).to_dict()\n",
    "df_submission = pd.read_csv('../results/FinQABench/results_score.csv')\n",
    "df_submission_dict = df_submission.groupby('query_id').apply(lambda x: dict(zip(x['corpus_id'], x['score']))).to_dict()\n",
    "\n",
    "result = evaluate(qrels = qrels_dict, results = df_submission_dict, k_values = [1, 5, 10], ignore_identical_ids = True)"
   ]
  },
  {
   "cell_type": "code",
   "execution_count": null,
   "metadata": {
    "colab": {
     "base_uri": "https://localhost:8080/"
    },
    "executionInfo": {
     "elapsed": 1875,
     "status": "ok",
     "timestamp": 1732957339733,
     "user": {
      "displayName": "최지훈",
      "userId": "13064390888583055144"
     },
     "user_tz": -540
    },
    "id": "9JdWTf7XQK8E",
    "outputId": "d9de2ba1-d88c-426e-bfa9-1dfb03f27b94"
   },
   "outputs": [],
   "source": [
    "# 답변 레이블의 30%가 포함된 TSV 파일 로드\n",
    "df = pd.read_csv('../files/MultiHeirtt_qrels.tsv', sep='\\t')\n",
    "\n",
    "# TSV 데이터를 평가를 위한 사전 형식으로 변환\n",
    "qrels_dict = df.groupby('query_id').apply(lambda x: dict(zip(x['corpus_id'], x['score']))).to_dict()\n",
    "df_submission = pd.read_csv('../results/MultiHiertt/results_score.csv')\n",
    "df_submission_dict = df_submission.groupby('query_id').apply(lambda x: dict(zip(x['corpus_id'], x['score']))).to_dict()\n",
    "\n",
    "result = evaluate(qrels = qrels_dict, results = df_submission_dict, k_values = [1, 5, 10], ignore_identical_ids = True)"
   ]
  },
  {
   "cell_type": "code",
   "execution_count": null,
   "metadata": {
    "colab": {
     "base_uri": "https://localhost:8080/"
    },
    "executionInfo": {
     "elapsed": 1880,
     "status": "ok",
     "timestamp": 1732957341610,
     "user": {
      "displayName": "최지훈",
      "userId": "13064390888583055144"
     },
     "user_tz": -540
    },
    "id": "WeiiJeq4QQJq",
    "outputId": "ab8d16e7-cb5b-49e2-9f3f-5938990ba3cf"
   },
   "outputs": [],
   "source": [
    "# 답변 레이블의 30%가 포함된 TSV 파일 로드\n",
    "df = pd.read_csv('../files/TATQA_qrels.tsv', sep='\\t')\n",
    "\n",
    "# TSV 데이터를 평가를 위한 사전 형식으로 변환\n",
    "qrels_dict = df.groupby('query_id').apply(lambda x: dict(zip(x['corpus_id'], x['score']))).to_dict()\n",
    "df_submission = pd.read_csv('../results/TAT-QA/results_score.csv')\n",
    "df_submission_dict = df_submission.groupby('query_id').apply(lambda x: dict(zip(x['corpus_id'], x['score']))).to_dict()\n",
    "\n",
    "result = evaluate(qrels = qrels_dict, results = df_submission_dict, k_values = [1, 5, 10], ignore_identical_ids = True)"
   ]
  }
 ],
 "metadata": {
  "colab": {
   "authorship_tag": "ABX9TyMrWTC43QBJwzxUKD4Ca95u",
   "provenance": []
  },
  "kernelspec": {
   "display_name": "financerag_env",
   "language": "python",
   "name": "python3"
  },
  "language_info": {
   "codemirror_mode": {
    "name": "ipython",
    "version": 3
   },
   "file_extension": ".py",
   "mimetype": "text/x-python",
   "name": "python",
   "nbconvert_exporter": "python",
   "pygments_lexer": "ipython3",
   "version": "3.11.10"
  }
 },
 "nbformat": 4,
 "nbformat_minor": 0
}
