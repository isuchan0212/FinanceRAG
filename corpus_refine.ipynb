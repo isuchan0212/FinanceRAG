{
 "cells": [
  {
   "cell_type": "code",
   "execution_count": null,
   "metadata": {},
   "outputs": [],
   "source": [
    "%cd ./FinanceRAG"
   ]
  },
  {
   "cell_type": "code",
   "execution_count": null,
   "metadata": {},
   "outputs": [],
   "source": [
    "import pandas as pd\n",
    "from financerag.common import HFDataLoader"
   ]
  },
  {
   "cell_type": "code",
   "execution_count": 3,
   "metadata": {},
   "outputs": [],
   "source": [
    "from tqdm import tqdm\n",
    "from openai import OpenAI\n",
    "import os\n",
    "import json\n",
    "import pandas as pd\n",
    "import re\n",
    "import time\n",
    "from datasets import Dataset"
   ]
  },
  {
   "cell_type": "code",
   "execution_count": null,
   "metadata": {},
   "outputs": [],
   "source": [
    "dataset_path = \"../dataset\"\n",
    "subset = \"MultiHiertt\"\n",
    "\n",
    "corpus, _= HFDataLoader(\n",
    "    data_folder=dataset_path,\n",
    "    subset=subset,\n",
    "    keep_in_memory=False,\n",
    ").load()\n",
    "\n",
    "uni_chr_re = re.compile(r'\\\\u([a-fA-F0-9]{4})')\n",
    "final_corpus = {doc[\"id\"]: {\"title\": doc[\"title\"], \"text\": doc[\"text\"]} for doc in corpus}\n",
    "tabular_corpus = {}\n",
    "corpus_ids = list(final_corpus.keys())\n",
    "\n",
    "\n",
    "for i in tqdm(range(len(corpus_ids))):\n",
    "  corpus_id = corpus_ids[i]\n",
    "  tabular_corpus[corpus_id] = {}\n",
    "  tabular_corpus[corpus_id][\"title\"] = final_corpus[corpus_id][\"title\"]\n",
    "  tabular_corpus[corpus_id][\"text\"] = uni_chr_re.sub(lambda m: chr(int(m.group(1), 16)), final_corpus[corpus_id][\"text\"])\n",
    "tabular_corpus_dataset = [{\"_id\": doc_id, \"title\": doc[\"title\"], \"text\": doc[\"text\"]} for doc_id, doc in tabular_corpus.items()]\n",
    "tabular_corpus_hf = Dataset.from_list(tabular_corpus_dataset)\n",
    "save_path = f'../dataset/MultiHiertt/corpus_1207_unicode.jsonl'\n",
    "with open(save_path, 'w', encoding='utf-8') as f:\n",
    "  json.dump(tabular_corpus, f, ensure_ascii= True)"
   ]
  },
  {
   "cell_type": "code",
   "execution_count": null,
   "metadata": {},
   "outputs": [],
   "source": [
    "save_path = f'../dataset/MultiHiertt/corpus_1207_unicode.jsonl'\n",
    "with open(save_path, 'r', encoding='utf-8') as f:\n",
    "    dataset_multi = json.load(f)\n",
    "tabular_corpus_dataset = [{\"_id\": doc_id, \"title\": doc[\"title\"], \"text\": doc[\"text\"]} for doc_id, doc in dataset_multi.items()]\n",
    "tabular_corpus_hf = Dataset.from_list(tabular_corpus_dataset)\n",
    "tabular_corpus_hf.to_json(save_path)"
   ]
  },
  {
   "cell_type": "code",
   "execution_count": null,
   "metadata": {},
   "outputs": [],
   "source": [
    "def generate_output(system_prompt, user_prompt):\n",
    "    client = OpenAI(api_key=\"\")\n",
    "\n",
    "    response = client.chat.completions.create(\n",
    "        model=\"gpt-4o-mini\",\n",
    "        messages=[\n",
    "            {\"role\": \"system\", \"content\": system_prompt},\n",
    "            {\"role\": \"user\", \"content\": user_prompt}\n",
    "        ],\n",
    "        temperature=0\n",
    "    )\n",
    "    text = response.choices[0].message.content\n",
    "\n",
    "    return text\n",
    "\n",
    "\n",
    "\n",
    "global call_count\n",
    "call_count = 0\n",
    "\n",
    "# MultiHiertt\n",
    "def replace_multi_table(text):\n",
    "    call_count = 0\n",
    "    instruction = \"\"\"You are given a hierarchical table. Change each cell into a sentence, along with its hierarchical row and column headers.\n",
    "                    Don't dismiss hierarchical column headers and row headers. Cells are divided by \"|\".\n",
    "                    Do not indexing for the results. \"\"\"\n",
    "\n",
    "    new_text = generate_output(instruction, text)\n",
    "\n",
    "    call_count += 1\n",
    "    if call_count % 1000 == 0:\n",
    "        time.sleep(60)  # Pause for 1 minute\n",
    "    return new_text"
   ]
  },
  {
   "cell_type": "code",
   "execution_count": null,
   "metadata": {},
   "outputs": [],
   "source": [
    "dataset_path = \"Linq-AI-Research/FinanceRAG\"\n",
    "subset = \"MultiHiertt\"\n",
    "\n",
    "corpus, _= HFDataLoader(\n",
    "    hf_repo=dataset_path,\n",
    "    subset=subset,\n",
    "    keep_in_memory=False,\n",
    ").load()\n",
    "\n",
    "final_corpus = {doc[\"id\"]: {\"title\": doc[\"title\"], \"text\": doc[\"text\"]} for doc in corpus}\n",
    "tabular_corpus = {}\n",
    "corpus_ids = list(final_corpus.keys())\n",
    "\n",
    "\n",
    "for i in tqdm(range(len(corpus_ids))):\n",
    "  corpus_id = corpus_ids[i]\n",
    "  tabular_corpus[corpus_id] = {}\n",
    "  tabular_corpus[corpus_id][\"title\"] = final_corpus[corpus_id][\"title\"]\n",
    "  tabular_corpus[corpus_id][\"text\"] = replace_multi_table(final_corpus[corpus_id][\"text\"])\n",
    "tabular_corpus_dataset = [{\"_id\": doc_id, \"title\": doc[\"title\"], \"text\": doc[\"text\"]} for doc_id, doc in tabular_corpus.items()]\n",
    "tabular_corpus_hf = Dataset.from_list(tabular_corpus_dataset)\n",
    "save_path = f'../dataset/MultiHiertt/corpus_1207.jsonl'\n",
    "tabular_corpus_hf.to_json(save_path)"
   ]
  }
 ],
 "metadata": {
  "kernelspec": {
   "display_name": "financerag_env",
   "language": "python",
   "name": "python3"
  },
  "language_info": {
   "codemirror_mode": {
    "name": "ipython",
    "version": 3
   },
   "file_extension": ".py",
   "mimetype": "text/x-python",
   "name": "python",
   "nbconvert_exporter": "python",
   "pygments_lexer": "ipython3",
   "version": "3.11.10"
  }
 },
 "nbformat": 4,
 "nbformat_minor": 2
}
